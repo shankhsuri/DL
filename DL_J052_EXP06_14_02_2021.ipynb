{
  "nbformat": 4,
  "nbformat_minor": 0,
  "metadata": {
    "kernelspec": {
      "display_name": "Python 3",
      "language": "python",
      "name": "python3"
    },
    "toc": {
      "base_numbering": 1,
      "nav_menu": {},
      "number_sections": true,
      "sideBar": true,
      "skip_h1_title": true,
      "title_cell": "Table of Contents",
      "title_sidebar": "Contents",
      "toc_cell": false,
      "toc_position": {},
      "toc_section_display": true,
      "toc_window_display": false
    },
    "colab": {
      "name": "DL_J052_EXP06_14_02_2021.ipynb",
      "provenance": [],
      "collapsed_sections": []
    },
    "accelerator": "GPU"
  },
  "cells": [
    {
      "cell_type": "markdown",
      "metadata": {
        "id": "DZxU4_WXk99T"
      },
      "source": [
        "# **LAB 6 Classic architectures of Convolutional Neural Network**\n"
      ]
    },
    {
      "cell_type": "markdown",
      "metadata": {
        "id": "OSRuFFgG-UC8"
      },
      "source": [
        "## Importing Packages"
      ]
    },
    {
      "cell_type": "code",
      "metadata": {
        "id": "qqeupBpN-UC-"
      },
      "source": [
        "import numpy as np\n",
        "import pandas as pd\n",
        "import os\n",
        "\n",
        "from bs4 import BeautifulSoup\n",
        "import requests\n",
        "import cv2\n",
        "import PIL.Image\n",
        "import urllib\n",
        "import matplotlib.pyplot as plt\n",
        "\n",
        "from sklearn.model_selection import train_test_split\n",
        "from sklearn.metrics import accuracy_score, confusion_matrix\n",
        "from sklearn.preprocessing import LabelEncoder\n",
        "\n",
        "import keras\n",
        "from keras.datasets import cifar10, cifar100, mnist, fashion_mnist\n",
        "from keras.utils import to_categorical\n",
        "from keras import models, layers\n",
        "from keras.models import Sequential, load_model, Model\n",
        "from keras.layers import Dense, Flatten, Conv2D, Dropout, Activation, MaxPooling2D, Input\n",
        "from keras.optimizers import SGD\n",
        "from keras.preprocessing.image import ImageDataGenerator\n",
        "from keras.callbacks import ModelCheckpoint, EarlyStopping\n",
        "\n",
        "from keras.applications.vgg16 import VGG16, preprocess_input\n",
        "from keras.applications.vgg19 import VGG19, preprocess_input"
      ],
      "execution_count": null,
      "outputs": []
    },
    {
      "cell_type": "code",
      "metadata": {
        "id": "ykaz6Dm1Qer_"
      },
      "source": [
        "from google.colab import drive\n",
        "drive.mount('/content/drive')"
      ],
      "execution_count": null,
      "outputs": []
    },
    {
      "cell_type": "code",
      "metadata": {
        "id": "XzzOFXQgj4yn"
      },
      "source": [
        "# !unzip '/content/drive/MyDrive/Colab Notebooks/Deep Learning/Colab new.zip'\n",
        "!unzip Colab.zip"
      ],
      "execution_count": null,
      "outputs": []
    },
    {
      "cell_type": "markdown",
      "metadata": {
        "id": "aqZ0bQy3-UC_"
      },
      "source": [
        "## Loading The Data"
      ]
    },
    {
      "cell_type": "markdown",
      "metadata": {
        "id": "xrhpuLvJ-UC_"
      },
      "source": [
        "### Importing Train Data From CIFAR10"
      ]
    },
    {
      "cell_type": "code",
      "metadata": {
        "id": "-tLqZcy5-UDA",
        "colab": {
          "base_uri": "https://localhost:8080/"
        },
        "outputId": "c26f3dcf-1468-435d-a61d-0b13e8dfc46d"
      },
      "source": [
        "(c10x_train, c10y_train), (c10x_test, c10y_test) = cifar10.load_data()\n",
        "\n",
        "c10x_train = c10x_train.reshape(c10x_train.shape[0], 32, 32, 3)\n",
        "c10x_train = c10x_train.astype('float32')\n",
        "\n",
        "c10x_train = preprocess_input(c10x_train)\n",
        "c10x_test = preprocess_input(c10x_test)\n",
        "\n",
        "c10y_train = to_categorical(c10y_train)\n",
        "c10y_test = to_categorical(c10y_test)\n",
        "\n",
        "print('x_train shape:', c10x_train.shape)\n",
        "print(c10x_train.shape[0], 'train samples')"
      ],
      "execution_count": null,
      "outputs": [
        {
          "output_type": "stream",
          "text": [
            "Downloading data from https://www.cs.toronto.edu/~kriz/cifar-10-python.tar.gz\n",
            "170500096/170498071 [==============================] - 4s 0us/step\n",
            "x_train shape: (50000, 32, 32, 3)\n",
            "50000 train samples\n"
          ],
          "name": "stdout"
        }
      ]
    },
    {
      "cell_type": "markdown",
      "metadata": {
        "id": "lh65zWfl-UDA"
      },
      "source": [
        "### Importing Train Data From CIFAR100"
      ]
    },
    {
      "cell_type": "code",
      "metadata": {
        "id": "-b7A9r_0-UDB",
        "colab": {
          "base_uri": "https://localhost:8080/"
        },
        "outputId": "4fe8ef45-d0c3-4f35-a130-f2134a6848dd"
      },
      "source": [
        "(c100x_train, c100y_train), (c100x_test, c100y_test) = cifar100.load_data()\n",
        "\n",
        "c100x_train = c100x_train.reshape(c100x_train.shape[0], 32, 32, 3)\n",
        "c100x_train = c100x_train.astype('float32')\n",
        "c100x_train /= 255\n",
        "\n",
        "c100y_train = to_categorical(c100y_train)\n",
        "c100y_test = to_categorical(c100y_test)\n",
        "\n",
        "print('x_train shape:', c100x_train.shape)\n",
        "print(c100x_train.shape[0], 'train samples')"
      ],
      "execution_count": null,
      "outputs": [
        {
          "output_type": "stream",
          "text": [
            "Downloading data from https://www.cs.toronto.edu/~kriz/cifar-100-python.tar.gz\n",
            "169009152/169001437 [==============================] - 4s 0us/step\n",
            "x_train shape: (50000, 32, 32, 3)\n",
            "50000 train samples\n"
          ],
          "name": "stdout"
        }
      ]
    },
    {
      "cell_type": "markdown",
      "metadata": {
        "id": "em-jW2Dn-UDB"
      },
      "source": [
        "### Importing Train Data From MNIST"
      ]
    },
    {
      "cell_type": "code",
      "metadata": {
        "id": "Ay8rkgPJ-UDC",
        "colab": {
          "base_uri": "https://localhost:8080/"
        },
        "outputId": "6623f020-0d7d-4bf3-f981-156038686bec"
      },
      "source": [
        "(mnx_train, mny_train), (mnx_test, mny_test) = mnist.load_data()\n",
        "\n",
        "mnx_train = mnx_train.reshape(mnx_train.shape[0], 28, 28, 1)\n",
        "mnx_train = mnx_train.astype('float32')\n",
        "mnx_train /= 255\n",
        "\n",
        "mny_train = to_categorical(mny_train)\n",
        "mny_test = to_categorical(mny_test)\n",
        "\n",
        "print('x_train shape:', mnx_train.shape)\n",
        "print(mnx_train.shape[0], 'train samples')"
      ],
      "execution_count": null,
      "outputs": [
        {
          "output_type": "stream",
          "text": [
            "Downloading data from https://storage.googleapis.com/tensorflow/tf-keras-datasets/mnist.npz\n",
            "11493376/11490434 [==============================] - 0s 0us/step\n",
            "x_train shape: (60000, 28, 28, 1)\n",
            "60000 train samples\n"
          ],
          "name": "stdout"
        }
      ]
    },
    {
      "cell_type": "markdown",
      "metadata": {
        "id": "ZLWyZ0Q8-UDC"
      },
      "source": [
        "### Importing Train Data From Fashion MNIST"
      ]
    },
    {
      "cell_type": "code",
      "metadata": {
        "id": "h7rLkInl-UDD",
        "colab": {
          "base_uri": "https://localhost:8080/"
        },
        "outputId": "eaac8c5f-a572-4b60-8f87-5ee10e830642"
      },
      "source": [
        "(fmnx_train, fmny_train), (fmnx_test, fmny_test) = fashion_mnist.load_data()\n",
        "\n",
        "fmnx_train = fmnx_train.reshape(fmnx_train.shape[0], 28, 28, 1)\n",
        "fmnx_train = fmnx_train.astype('float32')\n",
        "fmnx_train /= 255\n",
        "\n",
        "fmny_train = to_categorical(fmny_train)\n",
        "fmny_test = to_categorical(fmny_test)\n",
        "\n",
        "print('x_train shape:', fmnx_train.shape)\n",
        "print(fmnx_train.shape[0], 'train samples')"
      ],
      "execution_count": null,
      "outputs": [
        {
          "output_type": "stream",
          "text": [
            "Downloading data from https://storage.googleapis.com/tensorflow/tf-keras-datasets/train-labels-idx1-ubyte.gz\n",
            "32768/29515 [=================================] - 0s 0us/step\n",
            "Downloading data from https://storage.googleapis.com/tensorflow/tf-keras-datasets/train-images-idx3-ubyte.gz\n",
            "26427392/26421880 [==============================] - 0s 0us/step\n",
            "Downloading data from https://storage.googleapis.com/tensorflow/tf-keras-datasets/t10k-labels-idx1-ubyte.gz\n",
            "8192/5148 [===============================================] - 0s 0us/step\n",
            "Downloading data from https://storage.googleapis.com/tensorflow/tf-keras-datasets/t10k-images-idx3-ubyte.gz\n",
            "4423680/4422102 [==============================] - 0s 0us/step\n",
            "x_train shape: (60000, 28, 28, 1)\n",
            "60000 train samples\n"
          ],
          "name": "stdout"
        }
      ]
    },
    {
      "cell_type": "markdown",
      "metadata": {
        "id": "OcmJqMf2-UDD"
      },
      "source": [
        "### Loading The Dev and Test Set from ImageNet"
      ]
    },
    {
      "cell_type": "markdown",
      "metadata": {
        "id": "B_87HqUm-UDE"
      },
      "source": [
        "#### Extracting Images From Website"
      ]
    },
    {
      "cell_type": "code",
      "metadata": {
        "id": "j_kHuqTu-UDE"
      },
      "source": [
        "def url_to_image(url):\n",
        "    webpage = urllib.request.urlopen(url) # Open the website URL\n",
        "    image = np.asarray(bytearray(webpage.read()), dtype=\"uint8\") # Load the image from the page\n",
        "    image = cv2.imdecode(image, cv2.IMREAD_COLOR) # Decode to a more suitable format\n",
        "    return image # Return the read image"
      ],
      "execution_count": null,
      "outputs": []
    },
    {
      "cell_type": "code",
      "metadata": {
        "id": "RKdzhm-M-UDE"
      },
      "source": [
        "def get_images(url, n_samples, path):\n",
        "    #Getting the image links and splitting them after converting to sting\n",
        "    page = requests.get(url)\n",
        "    soup = BeautifulSoup(page.content, 'html.parser')\n",
        "    str_soup = str(soup)\n",
        "    \n",
        "    urls = str_soup.split('\\r\\n')\n",
        "    print('No. of URLs is:', len(urls))\n",
        "\n",
        "    #Saving The Train Data\n",
        "    i, count = 0, 0\n",
        "    while 1:\n",
        "        if count % 10 == 0: print('No. of Images Loaded: ', count)\n",
        "        if not urls[i] == None:\n",
        "            try:\n",
        "                img = url_to_image(urls[i])\n",
        "                if (len(img.shape)) == 3:\n",
        "                    save_path = path + str(count) + '.jpg'\n",
        "                    img = cv2.resize(img, (32, 32))\n",
        "                    cv2.imwrite(save_path, img)\n",
        "                    count += 1\n",
        "            except: None\n",
        "\n",
        "        i += 1\n",
        "        if count >= n_samples: break"
      ],
      "execution_count": null,
      "outputs": []
    },
    {
      "cell_type": "code",
      "metadata": {
        "scrolled": true,
        "id": "B5xgT0gi-UDE"
      },
      "source": [
        "# Cats\n",
        "cats = \"http://www.image-net.org/api/text/imagenet.synset.geturls?wnid=n02123045\"\n",
        "cat_data = '/Users/nmims/Desktop/Semester VI/Deep Learning/Experiment 4/cats/cats'\n",
        "get_images(cats, 200, cat_data)"
      ],
      "execution_count": null,
      "outputs": []
    },
    {
      "cell_type": "code",
      "metadata": {
        "scrolled": true,
        "id": "WaSJ0gW7-UDF"
      },
      "source": [
        "# Dogs\n",
        "dogs = \"http://www.image-net.org/api/text/imagenet.synset.geturls?wnid=n02084071\"\n",
        "dog_data = '/Users/nmims/Desktop/Semester VI/Deep Learning/Experiment 4/dogs/dogs'\n",
        "get_images(dogs, 200, dog_data)"
      ],
      "execution_count": null,
      "outputs": []
    },
    {
      "cell_type": "markdown",
      "metadata": {
        "id": "ttzP2Bqr-UDG"
      },
      "source": [
        "#### Loading Images from Stored Folder to Code"
      ]
    },
    {
      "cell_type": "code",
      "metadata": {
        "id": "EmInYsL3-UDG"
      },
      "source": [
        "def load_images_from_folder(folder):\n",
        "    images = []\n",
        "    for filename in os.listdir(folder):\n",
        "        img = cv2.imread(os.path.join(folder, filename))\n",
        "        if img is not None:\n",
        "            img = cv2.resize(img, (128, 128))\n",
        "            images.append(img)\n",
        "    return images"
      ],
      "execution_count": null,
      "outputs": []
    },
    {
      "cell_type": "code",
      "metadata": {
        "id": "WiyLOm4a-UDG"
      },
      "source": [
        "def get_array(folder):\n",
        "    arrays = load_images_from_folder(folder)\n",
        "    print('No of images found in class:', len(arrays))\n",
        "    \n",
        "    images =[]\n",
        "    for i in range(len(arrays)):\n",
        "        arr = arrays[i].reshape((arrays[i].shape[0] * arrays[i].shape[1] * arrays[i].shape[2]))\n",
        "        images = np.append(images, arr)\n",
        "    \n",
        "    images = images.reshape((len(arrays), 128, 128, 3))\n",
        "    return images, len(arrays)"
      ],
      "execution_count": null,
      "outputs": []
    },
    {
      "cell_type": "code",
      "metadata": {
        "id": "vY4HqYlE-UDH",
        "colab": {
          "base_uri": "https://localhost:8080/"
        },
        "outputId": "19ddedb6-5c50-4eaf-fbc0-d73af1fa5c95"
      },
      "source": [
        "folder = '/content/Colab/cats'\n",
        "cat, count = get_array(folder)\n",
        "y_temp = np.array([0 for i in range(count)])\n",
        "print('Read Cats')\n",
        "\n",
        "folder = '/content/Colab/dogs'\n",
        "dog, count = get_array(folder)\n",
        "y = np.append(y_temp, np.array([1 for i in range(count)]))\n",
        "print('Read Dogs')\n",
        "\n",
        "x = np.vstack((cat, dog))\n",
        "x = x / 255\n",
        "y = to_categorical(y)\n",
        "print(x.shape)\n",
        "print(y.shape)"
      ],
      "execution_count": null,
      "outputs": [
        {
          "output_type": "stream",
          "text": [
            "No of images found in class: 200\n",
            "Read Cats\n",
            "No of images found in class: 200\n",
            "Read Dogs\n",
            "(400, 128, 128, 3)\n",
            "(400, 2)\n"
          ],
          "name": "stdout"
        }
      ]
    },
    {
      "cell_type": "code",
      "metadata": {
        "id": "NEs7VOK9-UDJ",
        "colab": {
          "base_uri": "https://localhost:8080/"
        },
        "outputId": "5e1b688c-1aba-43d4-bd82-070509576a3e"
      },
      "source": [
        "x_train, x_test, y_train, y_test = train_test_split(x, y, shuffle = True, test_size = 0.5)\n",
        "print(x_train.shape, x_test.shape)\n",
        "print(y_train.shape, y_test.shape)"
      ],
      "execution_count": null,
      "outputs": [
        {
          "output_type": "stream",
          "text": [
            "(200, 128, 128, 3) (200, 128, 128, 3)\n",
            "(200, 2) (200, 2)\n"
          ],
          "name": "stdout"
        }
      ]
    },
    {
      "cell_type": "markdown",
      "metadata": {
        "id": "q2mzpMnM-UDH"
      },
      "source": [
        "### Visualizing The Train Data"
      ]
    },
    {
      "cell_type": "code",
      "metadata": {
        "id": "qchB8D1P-UDI",
        "colab": {
          "base_uri": "https://localhost:8080/",
          "height": 354
        },
        "outputId": "571bf752-87be-4ace-f5ea-509f774e46d0"
      },
      "source": [
        "fig  = plt.figure(figsize = (10, 7))\n",
        "i = 0\n",
        "for i in range(10):\n",
        "    pl = fig.add_subplot(2, 5, i + 1)\n",
        "    pl.imshow(c100x_train[i], cmap='gray')\n",
        "    i += 1"
      ],
      "execution_count": null,
      "outputs": [
        {
          "output_type": "display_data",
          "data": {
            "image/png": "[encoded data removed]",
            "text/plain": [
              "<Figure size 720x504 with 10 Axes>"
            ]
          },
          "metadata": {
            "tags": [],
            "needs_background": "light"
          }
        }
      ]
    },
    {
      "cell_type": "markdown",
      "metadata": {
        "id": "8lD9nA1S-UDI"
      },
      "source": [
        "## Model Building"
      ]
    },
    {
      "cell_type": "markdown",
      "metadata": {
        "id": "US07iPaPlXsM"
      },
      "source": [
        "### VGG16 Model"
      ]
    },
    {
      "cell_type": "code",
      "metadata": {
        "id": "VxAXhsGrladb"
      },
      "source": [
        "def vg_16(params, compilation, input_shape = 32, channel = 3):\n",
        "  vgg16 = VGG16(weights = None, include_top = False, \n",
        "                input_tensor = Input(shape = (input_shape, input_shape, channel)))\n",
        "  # Adding our own output layer to the VGG16 Architecture\n",
        "  out = Sequential()\n",
        "  out.add(Flatten())\n",
        "  out.add(Dense(params['output'], activation = params['activation']))\n",
        "\n",
        "  vgg16 = Model(inputs = vgg16.input, outputs = out(vgg16.output))\n",
        "\n",
        "  vgg16.compile(loss = compilation['loss'], optimizer = compilation['optimizer'], metrics = compilation['metrics'])\n",
        "  return vgg16"
      ],
      "execution_count": null,
      "outputs": []
    },
    {
      "cell_type": "markdown",
      "metadata": {
        "id": "WGsBZKm_bJUH"
      },
      "source": [
        "#### CIFAR10"
      ]
    },
    {
      "cell_type": "code",
      "metadata": {
        "colab": {
          "base_uri": "https://localhost:8080/"
        },
        "id": "AWOIpoKPpDoo",
        "outputId": "e4c49d4e-c687-4cb0-a874-6933aef69a2c"
      },
      "source": [
        "compilation = {'optimizer' : 'adam', 'loss' : 'categorical_crossentropy', \n",
        "               'metrics' : ['accuracy']}\n",
        "params = {'output' : 10, 'activation' : 'softmax'}\n",
        "model = vg_16(params = params, compilation = compilation, input_shape = 32, channel = 3)\n",
        "model.fit(c10x_train, c10y_train, epochs = 10, batch_size = 500)\n",
        "_, acc = model.evaluate(c10x_test, c10y_test)\n",
        "print('The Model accuracy is:', acc * 100)"
      ],
      "execution_count": null,
      "outputs": [
        {
          "output_type": "stream",
          "text": [
            "Epoch 1/10\n",
            "100/100 [==============================] - 53s 143ms/step - loss: 2.9261 - accuracy: 0.1343\n",
            "Epoch 2/10\n",
            "100/100 [==============================] - 15s 146ms/step - loss: 1.7810 - accuracy: 0.3064\n",
            "Epoch 3/10\n",
            "100/100 [==============================] - 15s 149ms/step - loss: 1.4110 - accuracy: 0.4693\n",
            "Epoch 4/10\n",
            "100/100 [==============================] - 15s 153ms/step - loss: 1.1296 - accuracy: 0.5861\n",
            "Epoch 5/10\n",
            "100/100 [==============================] - 16s 155ms/step - loss: 0.8948 - accuracy: 0.6793\n",
            "Epoch 6/10\n",
            "100/100 [==============================] - 16s 158ms/step - loss: 0.7621 - accuracy: 0.7281\n",
            "Epoch 7/10\n",
            "100/100 [==============================] - 16s 156ms/step - loss: 0.6377 - accuracy: 0.7749\n",
            "Epoch 8/10\n",
            "100/100 [==============================] - 15s 154ms/step - loss: 0.5464 - accuracy: 0.8098\n",
            "Epoch 9/10\n",
            "100/100 [==============================] - 15s 154ms/step - loss: 0.4503 - accuracy: 0.8408\n",
            "Epoch 10/10\n",
            "100/100 [==============================] - 15s 155ms/step - loss: 0.3826 - accuracy: 0.8662\n",
            "313/313 [==============================] - 4s 9ms/step - loss: 0.8568 - accuracy: 0.7343\n",
            "The Model accuracy is: 73.43000173568726\n"
          ],
          "name": "stdout"
        }
      ]
    },
    {
      "cell_type": "markdown",
      "metadata": {
        "id": "J7kwUZSNb9gl"
      },
      "source": [
        "#### CIFAR100"
      ]
    },
    {
      "cell_type": "code",
      "metadata": {
        "colab": {
          "base_uri": "https://localhost:8080/"
        },
        "id": "7f493pv-cBcJ",
        "outputId": "51aceff4-61e4-49ca-fdf5-bd25f739c7a7"
      },
      "source": [
        "compilation = {'optimizer' : 'adam', 'loss' : 'categorical_crossentropy', \n",
        "               'metrics' : ['accuracy']}\n",
        "params = {'output' : 100, 'activation' : 'softmax'}\n",
        "model = vg_16(params = params, compilation = compilation, input_shape = 32, channel = 3)\n",
        "model.fit(c100x_train, c100y_train, epochs = 10, batch_size = 500)\n",
        "\n",
        "_, acc = model.evaluate(c100x_test, c100y_test)\n",
        "print('The Model accuracy on test set:', acc * 100)"
      ],
      "execution_count": null,
      "outputs": [
        {
          "output_type": "stream",
          "text": [
            "Epoch 1/10\n",
            "100/100 [==============================] - 10s 93ms/step - loss: 4.6158 - accuracy: 0.0098\n",
            "Epoch 2/10\n",
            "100/100 [==============================] - 9s 93ms/step - loss: 4.6053 - accuracy: 0.0095\n",
            "Epoch 3/10\n",
            "100/100 [==============================] - 9s 93ms/step - loss: 4.6053 - accuracy: 0.0097\n",
            "Epoch 4/10\n",
            "100/100 [==============================] - 9s 93ms/step - loss: 4.6053 - accuracy: 0.0094\n",
            "Epoch 5/10\n",
            "100/100 [==============================] - 9s 92ms/step - loss: 4.6052 - accuracy: 0.0098\n",
            "Epoch 6/10\n",
            "100/100 [==============================] - 9s 93ms/step - loss: 4.6053 - accuracy: 0.0087\n",
            "Epoch 7/10\n",
            "100/100 [==============================] - 9s 93ms/step - loss: 4.6052 - accuracy: 0.0104\n",
            "Epoch 8/10\n",
            "100/100 [==============================] - 9s 92ms/step - loss: 4.6053 - accuracy: 0.0097\n",
            "Epoch 9/10\n",
            "100/100 [==============================] - 9s 92ms/step - loss: 4.6053 - accuracy: 0.0091\n",
            "Epoch 10/10\n",
            "100/100 [==============================] - 9s 92ms/step - loss: 4.6053 - accuracy: 0.0094\n",
            "313/313 [==============================] - 2s 7ms/step - loss: 4.6046 - accuracy: 0.0100\n",
            "The Model accuracy on test set: 0.9999999776482582\n"
          ],
          "name": "stdout"
        }
      ]
    },
    {
      "cell_type": "markdown",
      "metadata": {
        "id": "PodUwDAAeA2_"
      },
      "source": [
        "#### ImageNet Cat-Dog"
      ]
    },
    {
      "cell_type": "code",
      "metadata": {
        "colab": {
          "base_uri": "https://localhost:8080/"
        },
        "id": "QFf-nDBveAhj",
        "outputId": "be397dee-eef9-4c5d-a0dc-84f16976e8d3"
      },
      "source": [
        "compilation = {'optimizer' : 'adam', 'loss' : 'binary_crossentropy', \n",
        "               'metrics' : ['accuracy']}\n",
        "params = {'output' : 2, 'activation' : 'sigmoid'}\n",
        "model = vg_16(params = params, compilation = compilation, input_shape = 128, channel = 3)\n",
        "model.fit(x_train, y_train, epochs = 10, batch_size = 500)\n",
        "\n",
        "_, acc = model.evaluate(x_test, y_test)\n",
        "print('The Model accuracy on test set:', acc * 100)"
      ],
      "execution_count": null,
      "outputs": [
        {
          "output_type": "stream",
          "text": [
            "Epoch 1/10\n",
            "1/1 [==============================] - 9s 9s/step - loss: 0.6931 - accuracy: 0.5050\n",
            "Epoch 2/10\n",
            "1/1 [==============================] - 0s 396ms/step - loss: 0.6969 - accuracy: 0.5050\n",
            "Epoch 3/10\n",
            "1/1 [==============================] - 0s 397ms/step - loss: 0.6932 - accuracy: 0.4950\n",
            "Epoch 4/10\n",
            "1/1 [==============================] - 0s 390ms/step - loss: 0.6932 - accuracy: 0.4950\n",
            "Epoch 5/10\n",
            "1/1 [==============================] - 0s 396ms/step - loss: 0.6932 - accuracy: 0.4950\n",
            "Epoch 6/10\n",
            "1/1 [==============================] - 0s 399ms/step - loss: 0.6930 - accuracy: 0.5050\n",
            "Epoch 7/10\n",
            "1/1 [==============================] - 0s 388ms/step - loss: 0.6925 - accuracy: 0.5050\n",
            "Epoch 8/10\n",
            "1/1 [==============================] - 0s 395ms/step - loss: 0.6918 - accuracy: 0.5050\n",
            "Epoch 9/10\n",
            "1/1 [==============================] - 0s 388ms/step - loss: 0.6935 - accuracy: 0.4950\n",
            "Epoch 10/10\n",
            "1/1 [==============================] - 0s 389ms/step - loss: 0.6933 - accuracy: 0.4950\n",
            "7/7 [==============================] - 2s 81ms/step - loss: 0.6931 - accuracy: 0.5050\n",
            "The Model accuracy on test set: 50.49999952316284\n"
          ],
          "name": "stdout"
        }
      ]
    },
    {
      "cell_type": "markdown",
      "metadata": {
        "id": "n6oiNGgDg2SV"
      },
      "source": [
        "### VGG19"
      ]
    },
    {
      "cell_type": "code",
      "metadata": {
        "id": "hDK4ZGu4g55D"
      },
      "source": [
        "def vg_19(params, compilation, input_shape = 32, channel = 3):\n",
        "  vgg19 = VGG19(weights = None, include_top = False, \n",
        "                input_tensor = Input(shape = (input_shape, input_shape, channel)))\n",
        "  # Adding our own output layer to the VGG19 Architecture\n",
        "  out = Sequential()\n",
        "  out.add(Flatten())\n",
        "  out.add(Dense(params['output'], activation = params['activation']))\n",
        "\n",
        "  vgg19 = Model(inputs = vgg19.input, outputs = out(vgg19.output))\n",
        "\n",
        "  vgg19.compile(loss = compilation['loss'], optimizer = compilation['optimizer'], metrics = compilation['metrics'])\n",
        "  return vgg19"
      ],
      "execution_count": null,
      "outputs": []
    },
    {
      "cell_type": "markdown",
      "metadata": {
        "id": "npk86CZzhDAC"
      },
      "source": [
        "#### CIFAR10"
      ]
    },
    {
      "cell_type": "code",
      "metadata": {
        "colab": {
          "base_uri": "https://localhost:8080/"
        },
        "id": "TiHY4p9lhGXH",
        "outputId": "a4d836da-4d96-43a3-fe48-c305f929e36b"
      },
      "source": [
        "compilation = {'optimizer' : 'rmsprop', 'loss' : 'categorical_crossentropy', \n",
        "               'metrics' : ['accuracy']}\n",
        "params = {'output' : 10, 'activation' : 'softmax'}\n",
        "model = vg_19(params = params, compilation = compilation, input_shape = 32, channel = 3)\n",
        "model.fit(c10x_train, c10y_train, epochs = 10, batch_size = 500)\n",
        "\n",
        "_, acc = model.evaluate(c10x_test, c10y_test)\n",
        "print('The Model accuracy on test set:', acc * 100)"
      ],
      "execution_count": null,
      "outputs": [
        {
          "output_type": "stream",
          "text": [
            "Epoch 1/10\n",
            "100/100 [==============================] - 13s 115ms/step - loss: 28465.7512 - accuracy: 0.0979\n",
            "Epoch 2/10\n",
            "100/100 [==============================] - 11s 115ms/step - loss: 2.3904 - accuracy: 0.1285\n",
            "Epoch 3/10\n",
            "100/100 [==============================] - 12s 115ms/step - loss: 2.4786 - accuracy: 0.1008\n",
            "Epoch 4/10\n",
            "100/100 [==============================] - 11s 115ms/step - loss: 2.3824 - accuracy: 0.1017\n",
            "Epoch 5/10\n",
            "100/100 [==============================] - 11s 115ms/step - loss: 3.1157 - accuracy: 0.1123\n",
            "Epoch 6/10\n",
            "100/100 [==============================] - 12s 115ms/step - loss: 2.3741 - accuracy: 0.1053\n",
            "Epoch 7/10\n",
            "100/100 [==============================] - 12s 115ms/step - loss: 2.5960 - accuracy: 0.1153\n",
            "Epoch 8/10\n",
            "100/100 [==============================] - 12s 115ms/step - loss: 2.3401 - accuracy: 0.1255\n",
            "Epoch 9/10\n",
            "100/100 [==============================] - 12s 115ms/step - loss: 2.7978 - accuracy: 0.1553\n",
            "Epoch 10/10\n",
            "100/100 [==============================] - 11s 115ms/step - loss: 2.2137 - accuracy: 0.1690\n",
            "313/313 [==============================] - 3s 8ms/step - loss: 1.9254 - accuracy: 0.2162\n",
            "The Model accuracy on test set: 21.619999408721924\n"
          ],
          "name": "stdout"
        }
      ]
    },
    {
      "cell_type": "markdown",
      "metadata": {
        "id": "veIvBmiDhCzW"
      },
      "source": [
        "#### CIFAR100"
      ]
    },
    {
      "cell_type": "code",
      "metadata": {
        "colab": {
          "base_uri": "https://localhost:8080/"
        },
        "id": "P66QFiQXhMK3",
        "outputId": "5d6e5078-b451-4d40-fb3e-ce1b7b0234a8"
      },
      "source": [
        "compilation = {'optimizer' : 'rmsprop', 'loss' : 'categorical_crossentropy', \n",
        "               'metrics' : ['accuracy']}\n",
        "params = {'output' : 100, 'activation' : 'softmax'}\n",
        "model = vg_19(params = params, compilation = compilation, input_shape = 32, channel = 3)\n",
        "model.fit(c100x_train, c100y_train, epochs = 10, batch_size = 500)\n",
        "\n",
        "_, acc = model.evaluate(c100x_test, c100y_test)\n",
        "print('The Model accuracy on test set:', acc * 100)"
      ],
      "execution_count": null,
      "outputs": [
        {
          "output_type": "stream",
          "text": [
            "Epoch 1/10\n",
            "100/100 [==============================] - 13s 115ms/step - loss: 4.6219 - accuracy: 0.0098\n",
            "Epoch 2/10\n",
            "100/100 [==============================] - 11s 115ms/step - loss: 4.6053 - accuracy: 0.0093\n",
            "Epoch 3/10\n",
            "100/100 [==============================] - 11s 115ms/step - loss: 4.6053 - accuracy: 0.0097\n",
            "Epoch 4/10\n",
            "100/100 [==============================] - 11s 115ms/step - loss: 4.6053 - accuracy: 0.0090\n",
            "Epoch 5/10\n",
            "100/100 [==============================] - 11s 115ms/step - loss: 4.6053 - accuracy: 0.0081\n",
            "Epoch 6/10\n",
            "100/100 [==============================] - 11s 115ms/step - loss: 4.6053 - accuracy: 0.0095\n",
            "Epoch 7/10\n",
            "100/100 [==============================] - 11s 115ms/step - loss: 4.6053 - accuracy: 0.0097\n",
            "Epoch 8/10\n",
            "100/100 [==============================] - 11s 115ms/step - loss: 4.6053 - accuracy: 0.0094\n",
            "Epoch 9/10\n",
            "100/100 [==============================] - 11s 115ms/step - loss: 4.6053 - accuracy: 0.0097\n",
            "Epoch 10/10\n",
            "100/100 [==============================] - 11s 115ms/step - loss: 4.6053 - accuracy: 0.0092\n",
            "313/313 [==============================] - 3s 8ms/step - loss: 4.6052 - accuracy: 0.0080\n",
            "The Model accuracy on test set: 0.800000037997961\n"
          ],
          "name": "stdout"
        }
      ]
    },
    {
      "cell_type": "markdown",
      "metadata": {
        "id": "zpxSrE1yhCj9"
      },
      "source": [
        "#### ImageNet Cat-Dog"
      ]
    },
    {
      "cell_type": "code",
      "metadata": {
        "colab": {
          "base_uri": "https://localhost:8080/"
        },
        "id": "AVMqGzObhM7K",
        "outputId": "d5bc48f5-2678-4519-aa09-f08dfee0848b"
      },
      "source": [
        "compilation = {'optimizer' : 'adam', 'loss' : 'binary_crossentropy', \n",
        "               'metrics' : ['accuracy']}\n",
        "params = {'output' : 2, 'activation' : 'sigmoid'}\n",
        "model = vg_19(params = params, compilation = compilation, input_shape = 128, channel = 3)\n",
        "model.fit(x_train, y_train, epochs = 10, batch_size = 500)\n",
        "\n",
        "_, acc = model.evaluate(x_test, y_test)\n",
        "print('The Model accuracy on test set:', acc * 100)"
      ],
      "execution_count": null,
      "outputs": [
        {
          "output_type": "stream",
          "text": [
            "Epoch 1/10\n",
            "1/1 [==============================] - 1s 1s/step - loss: 0.6932 - accuracy: 0.4950\n",
            "Epoch 2/10\n",
            "1/1 [==============================] - 0s 463ms/step - loss: 0.6930 - accuracy: 0.5050\n",
            "Epoch 3/10\n",
            "1/1 [==============================] - 0s 462ms/step - loss: 0.7001 - accuracy: 0.5050\n",
            "Epoch 4/10\n",
            "1/1 [==============================] - 0s 465ms/step - loss: 0.6932 - accuracy: 0.4950\n",
            "Epoch 5/10\n",
            "1/1 [==============================] - 0s 465ms/step - loss: 0.6932 - accuracy: 0.4950\n",
            "Epoch 6/10\n",
            "1/1 [==============================] - 0s 466ms/step - loss: 0.6932 - accuracy: 0.4950\n",
            "Epoch 7/10\n",
            "1/1 [==============================] - 0s 464ms/step - loss: 0.6931 - accuracy: 0.5050\n",
            "Epoch 8/10\n",
            "1/1 [==============================] - 0s 457ms/step - loss: 0.6931 - accuracy: 0.5050\n",
            "Epoch 9/10\n",
            "1/1 [==============================] - 0s 457ms/step - loss: 0.6931 - accuracy: 0.5050\n",
            "Epoch 10/10\n",
            "1/1 [==============================] - 0s 457ms/step - loss: 0.6931 - accuracy: 0.5050\n",
            "7/7 [==============================] - 0s 24ms/step - loss: 0.6934 - accuracy: 0.4950\n",
            "The Model accuracy on test set: 49.50000047683716\n"
          ],
          "name": "stdout"
        }
      ]
    },
    {
      "cell_type": "markdown",
      "metadata": {
        "id": "uTZjzwwq-UDL"
      },
      "source": [
        "## Deployment"
      ]
    },
    {
      "cell_type": "code",
      "metadata": {
        "id": "C9Da9LDz-UDL"
      },
      "source": [
        "!pip install flask-ngrok\n",
        "!pip install flask gevent requests pillow\n",
        "from flask import Flask, render_template, request\n",
        "from flask_ngrok import run_with_ngrok"
      ],
      "execution_count": null,
      "outputs": []
    },
    {
      "cell_type": "code",
      "metadata": {
        "id": "L74QgrWu-UDL"
      },
      "source": [
        "procfile = 'web: gunicorn app:app'\n",
        "procfiles= open(\"Procfile\",\"w\")\n",
        "procfiles.write(procfile)\n",
        "procfiles.close()"
      ],
      "execution_count": null,
      "outputs": []
    },
    {
      "cell_type": "code",
      "metadata": {
        "scrolled": false,
        "id": "tT9JQgfN-UDM",
        "colab": {
          "base_uri": "https://localhost:8080/"
        },
        "outputId": "aaa73d17-7a3a-4a6d-b13f-a335ba0f25db"
      },
      "source": [
        "app = Flask(__name__)\n",
        "run_with_ngrok(app)\n",
        "\n",
        "app.config['UPLOADS'] = 'uploads'\n",
        "\n",
        "def bestModel():\n",
        "    global mymodel\n",
        "    mymodel = load_model('/content/drive/MyDrive/Colab Notebooks/Deep Learning/catDog.h5')\n",
        "\n",
        "@app.route('/')\n",
        "def home():\n",
        "    return render_template('index.html')\n",
        "\n",
        "def predicting(file):\n",
        "    img = cv2.imread(file)\n",
        "    img = cv2.resize(img, (32, 32))\n",
        "    img = np.resize(img, (1, 32, 32, 3)) / 255\n",
        "    pred = mymodel.predict(img)\n",
        "    if pred > 0.5: return 'dog'\n",
        "    else: return 'cat'\n",
        "\n",
        "@app.route('/', methods = ['POST'])\n",
        "def upload_files():\n",
        "    file = request.files['file']\n",
        "    animal = request.form['animal']\n",
        "    for_file = int(animal)\n",
        "    if for_file == 0: animal = 'cat'\n",
        "    else: animal = 'dog'\n",
        "    \n",
        "    filepath = os.path.join(app.config['UPLOADS'], animal, file.filename)\n",
        "    file.save(filepath)\n",
        "    \n",
        "    pred = predicting(filepath)\n",
        "    \n",
        "    # Documentating The Results\n",
        "    doc = pd.read_csv('documentation.csv')\n",
        "    if pred =='cat': out = 0\n",
        "    else: out = 1\n",
        "    doc.loc[len(doc)] = [file.filename, for_file, out]\n",
        "    doc.to_csv('documentation.csv', index = False)\n",
        "    \n",
        "    return render_template('index.html', label = pred)\n",
        "\n",
        "def updateModel():\n",
        "    folder = '/content/uploads/cat'\n",
        "    cat, count = get_array(folder)\n",
        "    y_temp = np.array([0 for i in range(count)])\n",
        "\n",
        "    folder = '/content/uploads/dog'\n",
        "    dog, count = get_array(folder)\n",
        "    y = np.append(y_temp, np.array([1 for i in range(count)]))\n",
        "\n",
        "    x = np.vstack((cat, dog))\n",
        "    x = x / 255\n",
        "    mymodel.fit(x, y, epochs = 10)\n",
        "    # If you want to save the newer version of the model overwriting the previous version\n",
        "    # models.save_model(mymodel, 'catDog.h5')\n",
        "\n",
        "if __name__ == '__main__':\n",
        "    bestModel()\n",
        "    '''\n",
        "    Optional, if we want to retrain the model based on the input it has already saved from uploads\n",
        "    Make sure after training on the upload data, the upload folder is cleared, otherwise it would train on the\n",
        "    the same uploaded data again and again.\n",
        "    '''\n",
        "    # updateModel()\n",
        "    app.run()"
      ],
      "execution_count": null,
      "outputs": [
        {
          "output_type": "stream",
          "text": [
            " * Serving Flask app \"__main__\" (lazy loading)\n",
            " * Environment: production\n",
            "\u001b[31m   WARNING: This is a development server. Do not use it in a production deployment.\u001b[0m\n",
            "\u001b[2m   Use a production WSGI server instead.\u001b[0m\n",
            " * Debug mode: off\n"
          ],
          "name": "stdout"
        },
        {
          "output_type": "stream",
          "text": [
            " * Running on http://127.0.0.1:5000/ (Press CTRL+C to quit)\n",
            "127.0.0.1 - - [19/Mar/2021 07:04:45] \"\u001b[37mPOST / HTTP/1.1\u001b[0m\" 200 -\n",
            "127.0.0.1 - - [19/Mar/2021 07:04:45] \"\u001b[37mPOST / HTTP/1.1\u001b[0m\" 200 -\n",
            "127.0.0.1 - - [19/Mar/2021 07:04:45] \"\u001b[37mPOST / HTTP/1.1\u001b[0m\" 200 -\n"
          ],
          "name": "stderr"
        },
        {
          "output_type": "stream",
          "text": [
            " * Running on http://f8fcb810b5c0.ngrok.io\n",
            " * Traffic stats available on http://127.0.0.1:4040\n"
          ],
          "name": "stdout"
        },
        {
          "output_type": "stream",
          "text": [
            "127.0.0.1 - - [19/Mar/2021 07:04:49] \"\u001b[37mGET / HTTP/1.1\u001b[0m\" 200 -\n",
            "127.0.0.1 - - [19/Mar/2021 07:04:50] \"\u001b[33mGET /favicon.ico HTTP/1.1\u001b[0m\" 404 -\n",
            "127.0.0.1 - - [19/Mar/2021 07:05:00] \"\u001b[37mPOST / HTTP/1.1\u001b[0m\" 200 -\n"
          ],
          "name": "stderr"
        }
      ]
    }
  ]
}