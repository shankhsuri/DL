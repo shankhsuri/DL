{
  "nbformat": 4,
  "nbformat_minor": 0,
  "metadata": {
    "colab": {
      "name": "DL_J052_EXP11_30_03_2021.ipynb",
      "provenance": [],
      "collapsed_sections": []
    },
    "kernelspec": {
      "name": "python3",
      "display_name": "Python 3"
    },
    "accelerator": "GPU"
  },
  "cells": [
    {
      "cell_type": "markdown",
      "metadata": {
        "id": "DP7aJi5Om70N"
      },
      "source": [
        "# **LAB 11 Case studies on Siamese networks**\n"
      ]
    },
    {
      "cell_type": "markdown",
      "metadata": {
        "id": "ozuUcEuy66uO"
      },
      "source": [
        "## Importing Packages"
      ]
    },
    {
      "cell_type": "code",
      "metadata": {
        "id": "LrPrYyx560Vq"
      },
      "source": [
        "import os\n",
        "from imutils import build_montages\n",
        "import numpy as np\n",
        "import matplotlib.pyplot as plt\n",
        "import cv2\n",
        "from google.colab.patches import cv2_imshow\n",
        "\n",
        "from tensorflow.keras.datasets import mnist\n",
        "from tensorflow.keras.models import Model\n",
        "from tensorflow.keras.layers import Dense, Input, Lambda, Conv2D, Dropout, GlobalAveragePooling2D, MaxPooling2D\n",
        "import tensorflow.keras.backend as K"
      ],
      "execution_count": 3,
      "outputs": []
    },
    {
      "cell_type": "markdown",
      "metadata": {
        "id": "NXagajXVBmyf"
      },
      "source": [
        "## Making The Data"
      ]
    },
    {
      "cell_type": "markdown",
      "metadata": {
        "id": "C2mR3cnYBptj"
      },
      "source": [
        "### Making Image Pairs"
      ]
    },
    {
      "cell_type": "code",
      "metadata": {
        "id": "mAoTAiz29Hx0"
      },
      "source": [
        "def make_pairs(images, labels):\n",
        "\tpairImages = []\n",
        "\tpairLabels = []\n",
        "  \n",
        "  # Seeing The Number of Unique Labels in Dataset\n",
        "\tnumClasses = len(np.unique(labels))\n",
        " \n",
        "\tidx = [np.where(labels == i)[0] for i in range(0, numClasses)]\n",
        "\n",
        "  # Going Through All The Images\n",
        "\tfor idxA in range(len(images)):\n",
        "\t\t# Getting One Image\n",
        "\t\tcurrentImage = images[idxA]\n",
        "\t\tlabel = labels[idxA]\n",
        "\t\t\n",
        "    # Random Another Image of Same Class\n",
        "\t\tidxB = np.random.choice(idx[label])\n",
        "\t\tposImage = images[idxB]\n",
        "\n",
        "\t\t# Making A positive Pair, and saving Label, i.e. Same Image & Label = 0\n",
        "\t\tpairImages.append([currentImage, posImage])\n",
        "\t\tpairLabels.append([1])\n",
        "  \t\n",
        "    # Random Image of Another Class\n",
        "\t\tnegIdx = np.where(labels != label)[0]\n",
        "\t\tnegImage = images[np.random.choice(negIdx)]\n",
        "\t\t\n",
        "    # Making A negative Pair, and saving Label, i.e. Different Image & Label = 1\n",
        "\t\tpairImages.append([currentImage, negImage])\n",
        "\t\tpairLabels.append([0])\n",
        "\t\n",
        "\treturn (np.array(pairImages), np.array(pairLabels))"
      ],
      "execution_count": 4,
      "outputs": []
    },
    {
      "cell_type": "markdown",
      "metadata": {
        "id": "XXUUPAYg96iD"
      },
      "source": [
        "### Performing on MNIST"
      ]
    },
    {
      "cell_type": "code",
      "metadata": {
        "id": "yXO6eTw098VS",
        "colab": {
          "base_uri": "https://localhost:8080/"
        },
        "outputId": "7cf9cf11-b9ea-459f-ffa5-2a16e84c27be"
      },
      "source": [
        "(trainX, trainY), (testX, testY) = mnist.load_data()\n",
        "trainX = trainX / 255.0\n",
        "testX = testX / 255.0\n",
        "\n",
        "# build the positive and negative image pairs\n",
        "(pairTrain, labelTrain) = make_pairs(trainX, trainY)\n",
        "(pairTest, labelTest) = make_pairs(testX, testY)\n",
        "\n",
        "images = []\n",
        "print(pairTrain.shape)"
      ],
      "execution_count": 5,
      "outputs": [
        {
          "output_type": "stream",
          "text": [
            "Downloading data from https://storage.googleapis.com/tensorflow/tf-keras-datasets/mnist.npz\n",
            "11493376/11490434 [==============================] - 0s 0us/step\n",
            "(120000, 2, 28, 28)\n"
          ],
          "name": "stdout"
        }
      ]
    },
    {
      "cell_type": "markdown",
      "metadata": {
        "id": "c901BgUFDxWV"
      },
      "source": [
        "### Checking One Of The Pairs"
      ]
    },
    {
      "cell_type": "code",
      "metadata": {
        "id": "6mJswrbOJSOG",
        "colab": {
          "base_uri": "https://localhost:8080/",
          "height": 281
        },
        "outputId": "59ca8f64-d19d-4189-85f0-039046be0756"
      },
      "source": [
        "plt.imshow(pairTrain[0, 0])"
      ],
      "execution_count": 6,
      "outputs": [
        {
          "output_type": "execute_result",
          "data": {
            "text/plain": [
              "<matplotlib.image.AxesImage at 0x7f87671c9210>"
            ]
          },
          "metadata": {
            "tags": []
          },
          "execution_count": 6
        },
        {
          "output_type": "display_data",
          "data": {
            "image/png": "[encoded data removed]",
            "text/plain": [
              "<Figure size 432x288 with 1 Axes>"
            ]
          },
          "metadata": {
            "tags": [],
            "needs_background": "light"
          }
        }
      ]
    },
    {
      "cell_type": "code",
      "metadata": {
        "id": "cR5WZUEHJfah",
        "colab": {
          "base_uri": "https://localhost:8080/",
          "height": 281
        },
        "outputId": "761a120e-6178-44c9-e2e9-20bc44f7228e"
      },
      "source": [
        "plt.imshow(pairTrain[0, 1])"
      ],
      "execution_count": 7,
      "outputs": [
        {
          "output_type": "execute_result",
          "data": {
            "text/plain": [
              "<matplotlib.image.AxesImage at 0x7f8729333b10>"
            ]
          },
          "metadata": {
            "tags": []
          },
          "execution_count": 7
        },
        {
          "output_type": "display_data",
          "data": {
            "image/png": "[encoded data removed]",
            "text/plain": [
              "<Figure size 432x288 with 1 Axes>"
            ]
          },
          "metadata": {
            "tags": [],
            "needs_background": "light"
          }
        }
      ]
    },
    {
      "cell_type": "markdown",
      "metadata": {
        "id": "EepJsogP_ML1"
      },
      "source": [
        "### For Ease of Visualizations"
      ]
    },
    {
      "cell_type": "code",
      "metadata": {
        "id": "XLqm2Yad-Kp3"
      },
      "source": [
        "for i in np.random.choice(np.arange(0, len(pairTrain)), size=(49,)):\n",
        "\timageA = pairTrain[i][0]\n",
        "\timageB = pairTrain[i][1]\n",
        "\tlabel = labelTrain[i]\n",
        "\t\n",
        "\toutput = np.zeros((36, 60), dtype=\"uint8\")\n",
        "\tpair = np.hstack([imageA, imageB])\n",
        "\toutput[4:32, 0:56] = pair\n",
        "\t\n",
        "\ttext = \"neg\" if label[0] == 0 else \"pos\"\n",
        "\tcolor = (0, 0, 255) if label[0] == 0 else (0, 255, 0)\n",
        "\t\n",
        "\tvis = cv2.merge([output] * 3)\n",
        "\tvis = cv2.resize(vis, (96, 51), interpolation=cv2.INTER_LINEAR)\n",
        "\tcv2.putText(vis, text, (2, 12), cv2.FONT_HERSHEY_SIMPLEX, 0.75, color, 2)\n",
        "\n",
        "\timages.append(vis)"
      ],
      "execution_count": 8,
      "outputs": []
    },
    {
      "cell_type": "markdown",
      "metadata": {
        "id": "tmg22ehE_GAe"
      },
      "source": [
        "### Display +ve and -ve pairs"
      ]
    },
    {
      "cell_type": "code",
      "metadata": {
        "id": "Kl-sEGKl-32J",
        "colab": {
          "base_uri": "https://localhost:8080/",
          "height": 390
        },
        "outputId": "d779bbb0-12d1-450c-8aed-8c02e48239fc"
      },
      "source": [
        "montage = build_montages(images, (96, 51), (7, 7))[0]\n",
        "\n",
        "cv2_imshow(montage)\n",
        "cv2.waitKey(0)"
      ],
      "execution_count": 9,
      "outputs": [
        {
          "output_type": "display_data",
          "data": {
            "image/png": "[encoded data removed]",
            "text/plain": [
              "<PIL.Image.Image image mode=RGB size=672x357 at 0x7F872A1F6350>"
            ]
          },
          "metadata": {
            "tags": []
          }
        },
        {
          "output_type": "execute_result",
          "data": {
            "text/plain": [
              "-1"
            ]
          },
          "metadata": {
            "tags": []
          },
          "execution_count": 9
        }
      ]
    },
    {
      "cell_type": "markdown",
      "metadata": {
        "id": "cCCIUIssAY_8"
      },
      "source": [
        "## Model Building"
      ]
    },
    {
      "cell_type": "markdown",
      "metadata": {
        "id": "HefnJ8RoFJ-G"
      },
      "source": [
        "### Specifying Important Model Parameters"
      ]
    },
    {
      "cell_type": "code",
      "metadata": {
        "id": "xNjRXphP_fnN"
      },
      "source": [
        "IMG_SHAPE = (28, 28, 1)\n",
        "BATCH_SIZE = 64\n",
        "EPOCHS = 100\n",
        "BASE_OUTPUT = \"output\"\n",
        "\n",
        "# Path To Model\n",
        "MODEL_PATH = os.path.sep.join([BASE_OUTPUT, \"siamese_model\"])\n",
        "\n",
        "# Path To Model Plot\n",
        "PLOT_PATH = os.path.sep.join([BASE_OUTPUT, \"plot.png\"])"
      ],
      "execution_count": 10,
      "outputs": []
    },
    {
      "cell_type": "markdown",
      "metadata": {
        "id": "HLQg622EBbGa"
      },
      "source": [
        "#Build siamese model "
      ]
    },
    {
      "cell_type": "code",
      "metadata": {
        "id": "x9GTyrYBBGg8"
      },
      "source": [
        "def build_siamese_model(inputShape, embeddingDim = 48):\n",
        "\tinputs = Input(inputShape)\n",
        "\t\n",
        "  # First Layer\n",
        "\tx = Conv2D(64, (2, 2), padding=\"same\", activation=\"relu\")(inputs)\n",
        "\tx = MaxPooling2D(pool_size=(2, 2))(x)\n",
        "\tx = Dropout(0.3)(x)\n",
        " \n",
        "\t# Second Layer\n",
        "\tx = Conv2D(64, (2, 2), padding=\"same\", activation=\"relu\")(x)\n",
        "\tx = MaxPooling2D(pool_size=2)(x)\n",
        "\tx = Dropout(0.3)(x)\n",
        " \n",
        " \t# Making The Final Outputs\n",
        "\tpooledOutput = GlobalAveragePooling2D()(x)\n",
        "\toutputs = Dense(embeddingDim)(pooledOutput)\n",
        "\t\n",
        "  # Making The Model\n",
        "\tmodel = Model(inputs, outputs)\n",
        "\n",
        "\treturn model"
      ],
      "execution_count": 11,
      "outputs": []
    },
    {
      "cell_type": "markdown",
      "metadata": {
        "id": "pfHra3IFDJ5Z"
      },
      "source": [
        "### Finding Euclidean Distance Between Scores"
      ]
    },
    {
      "cell_type": "code",
      "metadata": {
        "id": "03TmWYUqDLrb"
      },
      "source": [
        "def euclidean_distance(vectors):\n",
        "\t(featsA, featsB) = vectors\n",
        "\n",
        "\tsumSquared = K.sum(K.square(featsA - featsB), axis=1, keepdims=True)\n",
        "\n",
        "\treturn K.sqrt(K.maximum(sumSquared, K.epsilon()))"
      ],
      "execution_count": 12,
      "outputs": []
    },
    {
      "cell_type": "markdown",
      "metadata": {
        "id": "GlaO6QcADT3Z"
      },
      "source": [
        "### Plotting Our Data"
      ]
    },
    {
      "cell_type": "code",
      "metadata": {
        "id": "zf0nP1_TDUwt"
      },
      "source": [
        "def plot_training(H, plotPath):\n",
        "\tplt.style.use(\"ggplot\")\n",
        "\tplt.figure()\n",
        " \n",
        "  # Losses\n",
        "\tplt.plot(H.history[\"loss\"], label = \"Training Loss\")\n",
        "\tplt.plot(H.history[\"val_loss\"], label = \"Validation Loss\")\n",
        " \n",
        "  # Accuracyis\n",
        "\tplt.plot(H.history[\"accuracy\"], label = \"Training Accuracy\")\n",
        "\tplt.plot(H.history[\"val_accuracy\"], label = \"Validation Loss\")\n",
        "\tplt.title(\"Training Loss and Accuracy\")\n",
        "\tplt.xlabel(\"Epoch No.\")\n",
        "\tplt.ylabel(\"Loss/Accuracy\")\n",
        "\tplt.legend(loc = \"lower left\")\n",
        "\tplt.savefig(plotPath)"
      ],
      "execution_count": 13,
      "outputs": []
    },
    {
      "cell_type": "markdown",
      "metadata": {
        "id": "Q5yL8oVbGPjJ"
      },
      "source": [
        "### Building Siamese Network"
      ]
    },
    {
      "cell_type": "code",
      "metadata": {
        "id": "AQpxgDtlE9bO"
      },
      "source": [
        "# Defining The Input\n",
        "imgA = Input(shape = IMG_SHAPE)\n",
        "imgB = Input(shape = IMG_SHAPE)\n",
        "\n",
        "# Making The Model\n",
        "featureExtractor = build_siamese_model(IMG_SHAPE)\n",
        "featsA = featureExtractor(imgA)\n",
        "featsB = featureExtractor(imgB)"
      ],
      "execution_count": 14,
      "outputs": []
    },
    {
      "cell_type": "code",
      "metadata": {
        "id": "lU3pkpcrFSsg"
      },
      "source": [
        "# Implementing The Euclidean Distance\n",
        "distance = Lambda(euclidean_distance)([featsA, featsB])\n",
        "outputs = Dense(1, activation = \"sigmoid\")(distance)\n",
        "\n",
        "# Final Model\n",
        "model = Model(inputs = [imgA, imgB], outputs = outputs)"
      ],
      "execution_count": 15,
      "outputs": []
    },
    {
      "cell_type": "markdown",
      "metadata": {
        "id": "bbRJOYFcGyvb"
      },
      "source": [
        "### Compiling The Model And Running It"
      ]
    },
    {
      "cell_type": "code",
      "metadata": {
        "id": "LQiQ8jEiGzcg",
        "colab": {
          "base_uri": "https://localhost:8080/"
        },
        "outputId": "26d26946-ea2a-4bac-dae4-d1388efd4dd1"
      },
      "source": [
        "model.compile(loss = \"binary_crossentropy\", optimizer = \"adam\", metrics = [\"accuracy\"])\n",
        "\n",
        "history = model.fit([pairTrain[:, 0], pairTrain[:, 1]], labelTrain[:], \n",
        "                    validation_data = ([pairTest[:, 0], pairTest[:, 1]], labelTest[:]),\n",
        "                    batch_size = BATCH_SIZE, epochs = 10)"
      ],
      "execution_count": 16,
      "outputs": [
        {
          "output_type": "stream",
          "text": [
            "Epoch 1/10\n",
            "1875/1875 [==============================] - 42s 6ms/step - loss: 0.6937 - accuracy: 0.4924 - val_loss: 0.6933 - val_accuracy: 0.5000\n",
            "Epoch 2/10\n",
            "1875/1875 [==============================] - 10s 5ms/step - loss: 0.6932 - accuracy: 0.5040 - val_loss: 0.6933 - val_accuracy: 0.4474\n",
            "Epoch 3/10\n",
            "1875/1875 [==============================] - 10s 5ms/step - loss: 0.6932 - accuracy: 0.4990 - val_loss: 0.6932 - val_accuracy: 0.5000\n",
            "Epoch 4/10\n",
            "1875/1875 [==============================] - 10s 5ms/step - loss: 0.6932 - accuracy: 0.5007 - val_loss: 0.6932 - val_accuracy: 0.5000\n",
            "Epoch 5/10\n",
            "1875/1875 [==============================] - 10s 5ms/step - loss: 0.6932 - accuracy: 0.4988 - val_loss: 0.6932 - val_accuracy: 0.4841\n",
            "Epoch 6/10\n",
            "1875/1875 [==============================] - 10s 6ms/step - loss: 0.6932 - accuracy: 0.4950 - val_loss: 0.6932 - val_accuracy: 0.4999\n",
            "Epoch 7/10\n",
            "1875/1875 [==============================] - 10s 6ms/step - loss: 0.6932 - accuracy: 0.5017 - val_loss: 0.6932 - val_accuracy: 0.4911\n",
            "Epoch 8/10\n",
            "1875/1875 [==============================] - 10s 5ms/step - loss: 0.6932 - accuracy: 0.4978 - val_loss: 0.6931 - val_accuracy: 0.5000\n",
            "Epoch 9/10\n",
            "1875/1875 [==============================] - 10s 5ms/step - loss: 0.6932 - accuracy: 0.5025 - val_loss: 0.6932 - val_accuracy: 0.5000\n",
            "Epoch 10/10\n",
            "1875/1875 [==============================] - 10s 5ms/step - loss: 0.6931 - accuracy: 0.5033 - val_loss: 0.6932 - val_accuracy: 0.5000\n"
          ],
          "name": "stdout"
        }
      ]
    },
    {
      "cell_type": "markdown",
      "metadata": {
        "id": "baw7P60rHJEX"
      },
      "source": [
        "### Saving The Model and Plotting The History"
      ]
    },
    {
      "cell_type": "code",
      "metadata": {
        "id": "PdIxwcjMHJ51",
        "colab": {
          "base_uri": "https://localhost:8080/",
          "height": 316
        },
        "outputId": "ae70b868-e06f-4310-dfc3-425611c03e90"
      },
      "source": [
        "model.save(MODEL_PATH)\n",
        "plot_training(history, PLOT_PATH)"
      ],
      "execution_count": 17,
      "outputs": [
        {
          "output_type": "stream",
          "text": [
            "INFO:tensorflow:Assets written to: output/siamese_model/assets\n"
          ],
          "name": "stdout"
        },
        {
          "output_type": "display_data",
          "data": {
            "image/png": "[encoded data removed]",
            "text/plain": [
              "<Figure size 432x288 with 1 Axes>"
            ]
          },
          "metadata": {
            "tags": []
          }
        }
      ]
    },
    {
      "cell_type": "markdown",
      "metadata": {
        "id": "jvLSNR2sIdkO"
      },
      "source": [
        "## Testing Our Model\n"
      ]
    },
    {
      "cell_type": "code",
      "metadata": {
        "id": "3hQowd2sNE3d",
        "colab": {
          "base_uri": "https://localhost:8080/"
        },
        "outputId": "0593248f-464b-43bc-ecad-280a5507645e"
      },
      "source": [
        "# Same Pre-Processing As Our Images\n",
        "imageA = np.expand_dims(pairTest[45, 0], axis = -1)\n",
        "imageB = np.expand_dims(pairTest[45, 0], axis = -1)\n",
        "\n",
        "imageA = np.expand_dims(imageA, axis = 0)\n",
        "imageB = np.expand_dims(imageB, axis = 0)\n",
        "preds = model.predict([imageA, imageB])\n",
        "\n",
        "print('The Predicted Accuracy is:', preds[0][0] * 100)"
      ],
      "execution_count": 18,
      "outputs": [
        {
          "output_type": "stream",
          "text": [
            "The Predicted Accuracy is: 50.232917070388794\n"
          ],
          "name": "stdout"
        }
      ]
    },
    {
      "cell_type": "code",
      "metadata": {
        "id": "BR6Fpv8cOAHo",
        "colab": {
          "base_uri": "https://localhost:8080/",
          "height": 496
        },
        "outputId": "93e0817a-fec9-489c-c09b-c37347aae2af"
      },
      "source": [
        "imageA = np.resize(imageA, (28, 28))\n",
        "imageB = np.resize(imageB, (28, 28))\n",
        "\n",
        "fig = plt.figure(\"Pair #{}\".format(i + 1), figsize = (15, 8))\n",
        "plt.suptitle(\"Similarity: {:.2f}\".format(preds[0][0]))\n",
        "\n",
        "ax = fig.add_subplot(1, 2, 1)\n",
        "plt.imshow(imageA, cmap = plt.cm.gray)\n",
        "plt.axis(\"off\") \n",
        "\n",
        "ax = fig.add_subplot(1, 2, 2)\n",
        "plt.imshow(imageB, cmap = plt.cm.gray)\n",
        "plt.axis(\"off\")\n",
        "\n",
        "plt.show()"
      ],
      "execution_count": 19,
      "outputs": [
        {
          "output_type": "display_data",
          "data": {
            "image/png": "[encoded data removed]",
            "text/plain": [
              "<Figure size 1080x576 with 2 Axes>"
            ]
          },
          "metadata": {
            "tags": []
          }
        }
      ]
    }
  ]
}